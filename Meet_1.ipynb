{
  "nbformat": 4,
  "nbformat_minor": 0,
  "metadata": {
    "colab": {
      "name": "Meet 1.ipynb",
      "provenance": []
    },
    "kernelspec": {
      "name": "python3",
      "display_name": "Python 3"
    },
    "language_info": {
      "name": "python"
    }
  },
  "cells": [
    {
      "cell_type": "code",
      "metadata": {
        "id": "ZthQXlBRLeLA"
      },
      "source": [
        "a = 10\n",
        "d = \"Rama\"\n",
        "f = \"bekazeh\"\n",
        "g = 3.14"
      ],
      "execution_count": 14,
      "outputs": []
    },
    {
      "cell_type": "code",
      "metadata": {
        "colab": {
          "base_uri": "https://localhost:8080/"
        },
        "id": "yp7l_440Lrte",
        "outputId": "df8c37de-0619-4011-c65c-19cf918edf01"
      },
      "source": [
        "print(d)\n",
        "\n",
        "print(\"Hai Namaku \" + d)"
      ],
      "execution_count": 5,
      "outputs": [
        {
          "output_type": "stream",
          "name": "stdout",
          "text": [
            "Rama\n",
            "Hai Namaku Rama\n"
          ]
        }
      ]
    },
    {
      "cell_type": "code",
      "metadata": {
        "colab": {
          "base_uri": "https://localhost:8080/"
        },
        "id": "9h2bdpCQMlxp",
        "outputId": "b61089cb-9931-4174-fdfd-b2aaa5adce80"
      },
      "source": [
        "print(\"Nilainya adalah \" + str(a))"
      ],
      "execution_count": 9,
      "outputs": [
        {
          "output_type": "stream",
          "name": "stdout",
          "text": [
            "Nilainya adalah 10\n"
          ]
        }
      ]
    },
    {
      "cell_type": "code",
      "metadata": {
        "colab": {
          "base_uri": "https://localhost:8080/"
        },
        "id": "nRSCD3W2NYln",
        "outputId": "5fee32c9-32a4-40b5-90b3-40ad2f5c0311"
      },
      "source": [
        "print(\"Hai namaku {}, nilai sekolah gw {}, aku org {}\".format(a,d,f))"
      ],
      "execution_count": 15,
      "outputs": [
        {
          "output_type": "stream",
          "name": "stdout",
          "text": [
            "Hai namaku 10, nilai sekolah gw Rama, aku org bekazeh\n"
          ]
        }
      ]
    },
    {
      "cell_type": "code",
      "metadata": {
        "id": "R0ARCs8gN0pv"
      },
      "source": [
        "Sekolah = [\"Kelas\" , 10, True, 3.14, [\"Bambang\", \"Budi\", \"Joko\"], {\"Hewan\" : \"Gajah\"}]"
      ],
      "execution_count": 19,
      "outputs": []
    },
    {
      "cell_type": "code",
      "metadata": {
        "colab": {
          "base_uri": "https://localhost:8080/"
        },
        "id": "kMRe6HZYRavF",
        "outputId": "585293d7-74cd-4734-8b55-5539ae078a1c"
      },
      "source": [
        "print(Sekolah)"
      ],
      "execution_count": 35,
      "outputs": [
        {
          "output_type": "stream",
          "name": "stdout",
          "text": [
            "['Kelas', 10, True, 3.14, ['Bambang', 'Budi', 'Joko'], {'Hewan': 'Gajah'}]\n"
          ]
        }
      ]
    },
    {
      "cell_type": "code",
      "metadata": {
        "colab": {
          "base_uri": "https://localhost:8080/"
        },
        "id": "t1RgNMafRe7m",
        "outputId": "6f2f63be-5fa0-4eee-e9bb-0f0685870912"
      },
      "source": [
        "Sekolah[:]"
      ],
      "execution_count": 36,
      "outputs": [
        {
          "output_type": "execute_result",
          "data": {
            "text/plain": [
              "['Kelas', 10, True, 3.14, ['Bambang', 'Budi', 'Joko'], {'Hewan': 'Gajah'}]"
            ]
          },
          "metadata": {},
          "execution_count": 36
        }
      ]
    },
    {
      "cell_type": "code",
      "metadata": {
        "colab": {
          "base_uri": "https://localhost:8080/"
        },
        "id": "1qigxlEXRoKg",
        "outputId": "057d5e32-3711-4021-97ca-a22de461a601"
      },
      "source": [
        "Sekolah[5]"
      ],
      "execution_count": 37,
      "outputs": [
        {
          "output_type": "execute_result",
          "data": {
            "text/plain": [
              "{'Hewan': 'Gajah'}"
            ]
          },
          "metadata": {},
          "execution_count": 37
        }
      ]
    },
    {
      "cell_type": "code",
      "metadata": {
        "colab": {
          "base_uri": "https://localhost:8080/",
          "height": 35
        },
        "id": "XEAEZbNOO40o",
        "outputId": "d21d1cbd-d280-4186-9b9c-92dda148f727"
      },
      "source": [
        "Sekolah[0]"
      ],
      "execution_count": 20,
      "outputs": [
        {
          "output_type": "execute_result",
          "data": {
            "application/vnd.google.colaboratory.intrinsic+json": {
              "type": "string"
            },
            "text/plain": [
              "'Kelas'"
            ]
          },
          "metadata": {},
          "execution_count": 20
        }
      ]
    },
    {
      "cell_type": "code",
      "metadata": {
        "colab": {
          "base_uri": "https://localhost:8080/"
        },
        "id": "MLGdrwzaO64Y",
        "outputId": "ae189dbf-0120-458d-d03f-6488c19e4881"
      },
      "source": [
        "Sekolah[4]"
      ],
      "execution_count": 21,
      "outputs": [
        {
          "output_type": "execute_result",
          "data": {
            "text/plain": [
              "['Bambang', 'Budi', 'Joko']"
            ]
          },
          "metadata": {},
          "execution_count": 21
        }
      ]
    },
    {
      "cell_type": "code",
      "metadata": {
        "colab": {
          "base_uri": "https://localhost:8080/",
          "height": 35
        },
        "id": "Z_0u24bbPCEk",
        "outputId": "3d7cb689-d9fd-4e59-d3d0-8393a2f6e2fe"
      },
      "source": [
        "Sekolah[-1][\"Hewan\"]"
      ],
      "execution_count": 22,
      "outputs": [
        {
          "output_type": "execute_result",
          "data": {
            "application/vnd.google.colaboratory.intrinsic+json": {
              "type": "string"
            },
            "text/plain": [
              "'Gajah'"
            ]
          },
          "metadata": {},
          "execution_count": 22
        }
      ]
    },
    {
      "cell_type": "code",
      "metadata": {
        "colab": {
          "base_uri": "https://localhost:8080/"
        },
        "id": "amGf2mL1PMTg",
        "outputId": "155ce1fa-2dce-4e80-c569-593767d53d2e"
      },
      "source": [
        "#List Slic\n",
        "nama_siswa = [\"Bambang\", \"Budi\", \"Joko\", \"Rama\", \"Zakkia\"]"
      ],
      "execution_count": 41,
      "outputs": [
        {
          "output_type": "stream",
          "name": "stdout",
          "text": [
            "()\n"
          ]
        }
      ]
    },
    {
      "cell_type": "code",
      "metadata": {
        "colab": {
          "base_uri": "https://localhost:8080/"
        },
        "id": "7LL8grcpa5WO",
        "outputId": "fe071ad4-68f3-42cf-c699-cce38f21c54a"
      },
      "source": [
        "nama_siswa[0:5:2]"
      ],
      "execution_count": 50,
      "outputs": [
        {
          "output_type": "execute_result",
          "data": {
            "text/plain": [
              "['Bambang', 'Joko', 'Zakkia']"
            ]
          },
          "metadata": {},
          "execution_count": 50
        }
      ]
    },
    {
      "cell_type": "code",
      "metadata": {
        "colab": {
          "base_uri": "https://localhost:8080/"
        },
        "id": "brOeY3JePXCz",
        "outputId": "cedd7a0f-a0dc-48d2-f56a-e0ff04982c58"
      },
      "source": [
        "nama_siswa[1:5]"
      ],
      "execution_count": 26,
      "outputs": [
        {
          "output_type": "execute_result",
          "data": {
            "text/plain": [
              "['Budi', 'Joko', 'Rama', 'Zakkia']"
            ]
          },
          "metadata": {},
          "execution_count": 26
        }
      ]
    },
    {
      "cell_type": "code",
      "metadata": {
        "colab": {
          "base_uri": "https://localhost:8080/"
        },
        "id": "y1OQnYKCPt00",
        "outputId": "d133b2c8-e639-4577-f229-662e226adc84"
      },
      "source": [
        "nama_siswa[-3:]"
      ],
      "execution_count": 28,
      "outputs": [
        {
          "output_type": "execute_result",
          "data": {
            "text/plain": [
              "['Joko', 'Rama', 'Zakkia']"
            ]
          },
          "metadata": {},
          "execution_count": 28
        }
      ]
    },
    {
      "cell_type": "code",
      "metadata": {
        "id": "xZg4V8M8QXdk"
      },
      "source": [
        "#dicktionary\n",
        "Dict1 = {\"Hewan\" : \"Onta\", 0:22, \"Boolean\":\"Benar\"}"
      ],
      "execution_count": 34,
      "outputs": []
    },
    {
      "cell_type": "code",
      "metadata": {
        "colab": {
          "base_uri": "https://localhost:8080/",
          "height": 35
        },
        "id": "tVMyoADYQnAF",
        "outputId": "92e39226-eea8-4967-aff7-fd6d6ea35527"
      },
      "source": [
        "Dict1[\"Hewan\"]"
      ],
      "execution_count": 30,
      "outputs": [
        {
          "output_type": "execute_result",
          "data": {
            "application/vnd.google.colaboratory.intrinsic+json": {
              "type": "string"
            },
            "text/plain": [
              "'Onta'"
            ]
          },
          "metadata": {},
          "execution_count": 30
        }
      ]
    },
    {
      "cell_type": "code",
      "metadata": {
        "colab": {
          "base_uri": "https://localhost:8080/"
        },
        "id": "IVIQG4ikQtIw",
        "outputId": "3f118409-c45f-4987-d6d2-fbaea1eeb72b"
      },
      "source": [
        "Dict1[0]"
      ],
      "execution_count": 31,
      "outputs": [
        {
          "output_type": "execute_result",
          "data": {
            "text/plain": [
              "22"
            ]
          },
          "metadata": {},
          "execution_count": 31
        }
      ]
    },
    {
      "cell_type": "code",
      "metadata": {
        "colab": {
          "base_uri": "https://localhost:8080/",
          "height": 35
        },
        "id": "vSjtJ2OoRCZp",
        "outputId": "cf6d62bf-a9da-48e8-86da-d2256f6294b5"
      },
      "source": [
        "Dict1[\"Boolean\"]"
      ],
      "execution_count": 32,
      "outputs": [
        {
          "output_type": "execute_result",
          "data": {
            "application/vnd.google.colaboratory.intrinsic+json": {
              "type": "string"
            },
            "text/plain": [
              "'Benar'"
            ]
          },
          "metadata": {},
          "execution_count": 32
        }
      ]
    }
  ]
}